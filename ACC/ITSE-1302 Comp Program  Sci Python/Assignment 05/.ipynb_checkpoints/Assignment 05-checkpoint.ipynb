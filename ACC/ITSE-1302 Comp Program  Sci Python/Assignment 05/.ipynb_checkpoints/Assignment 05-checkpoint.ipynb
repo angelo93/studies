{
 "cells": [
  {
   "cell_type": "markdown",
   "id": "5c6adccc",
   "metadata": {},
   "source": [
    "# This is Assignment 05 - Michael Navarro"
   ]
  },
  {
   "cell_type": "markdown",
   "id": "a093a4f7",
   "metadata": {},
   "source": [
    "## Requirement 04"
   ]
  },
  {
   "cell_type": "code",
   "execution_count": 4,
   "id": "27c04a38",
   "metadata": {},
   "outputs": [
    {
     "name": "stdout",
     "output_type": "stream",
     "text": [
      "Addition\n",
      "2 + 2 = 4\n",
      "\n",
      "Subtraction\n",
      "2 - 2 = 0\n",
      "\n",
      "Multiplication\n",
      "2 * 2 = 4\n",
      "\n",
      "True Division\n",
      "4 / 2 = 2.0\n",
      "\n",
      "Floor Division\n",
      "10 // 3 = 3\n",
      "\n",
      "Exponentiation\n",
      "2**2 = 4\n"
     ]
    }
   ],
   "source": [
    "# Demonstrate arithmetic operations\n",
    "\n",
    "# Addition\n",
    "add = 2 + 2\n",
    "print('Addition')\n",
    "print(f'2 + 2 = {add}')\n",
    "# Subtraction\n",
    "sub = 2 - 2\n",
    "print('\\nSubtraction')\n",
    "print(f'2 - 2 = {sub}')\n",
    "# Multiplication\n",
    "multi = 2 * 2\n",
    "print('\\nMultiplication')\n",
    "print(f'2 * 2 = {multi}')\n",
    "# True Division\n",
    "true_div = 4 / 2\n",
    "print('\\nTrue Division')\n",
    "print(f'4 / 2 = {true_div}')\n",
    "# Floor Division\n",
    "flr_div = 10 // 3\n",
    "print('\\nFloor Division')\n",
    "print(f'10 // 3 = {flr_div}')\n",
    "# Exponentiation\n",
    "exp = 2**2\n",
    "print('\\nExponentiation')\n",
    "print(f'2**2 = {exp}')\n"
   ]
  },
  {
   "cell_type": "code",
   "execution_count": null,
   "id": "ee27224e",
   "metadata": {},
   "outputs": [],
   "source": []
  }
 ],
 "metadata": {
  "kernelspec": {
   "display_name": "Python 3",
   "language": "python",
   "name": "python3"
  },
  "language_info": {
   "codemirror_mode": {
    "name": "ipython",
    "version": 3
   },
   "file_extension": ".py",
   "mimetype": "text/x-python",
   "name": "python",
   "nbconvert_exporter": "python",
   "pygments_lexer": "ipython3",
   "version": "3.8.8"
  }
 },
 "nbformat": 4,
 "nbformat_minor": 5
}
