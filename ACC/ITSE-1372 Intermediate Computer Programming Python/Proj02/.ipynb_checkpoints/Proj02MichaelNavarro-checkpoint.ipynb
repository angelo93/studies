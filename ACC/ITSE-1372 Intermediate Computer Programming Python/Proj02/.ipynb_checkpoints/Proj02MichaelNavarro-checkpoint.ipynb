{
 "cells": [
  {
   "cell_type": "markdown",
   "metadata": {},
   "source": [
    "# Table of contents"
   ]
  },
  {
   "cell_type": "markdown",
   "metadata": {},
   "source": [
    "* [Certification](#certification)\n",
    "* [Headers](#headers)\n",
    "* [Bold and Italic Text](#bld_it)\n",
    " * [Bold text](#bld_ex)\n",
    " * [Italic text](#it_ex)\n",
    " * [Bold and Italic text](#bld_it_ex)"
   ]
  },
  {
   "cell_type": "markdown",
   "metadata": {},
   "source": [
    "# <a id=\"certification\"></a>Certification\n",
    "\n",
    "Your output file must contain the following certification:\n",
    "\n",
    "> I certify that this project is my own work and is not the work of others. I agree not to share my solution with others. - Michael Navarro"
   ]
  },
  {
   "cell_type": "markdown",
   "metadata": {},
   "source": [
    "# <a id=\"headers\"></a>Headers\n",
    "\n",
    "As you are aware, headers make heavy use of the # character."
   ]
  },
  {
   "cell_type": "markdown",
   "metadata": {},
   "source": [
    "# <a id=\"bld_it\"></a>Bold and Italic text"
   ]
  },
  {
   "cell_type": "markdown",
   "metadata": {},
   "source": [
    "## <a id=\"bld_ex\"></a>Bold text\n",
    "\n",
    "Display **bold text** as bold."
   ]
  },
  {
   "cell_type": "markdown",
   "metadata": {},
   "source": [
    "## <a id=\"it_ex\"></a>Italic \n",
    "\n",
    "Display *Italic text* as Italic."
   ]
  },
  {
   "cell_type": "markdown",
   "metadata": {},
   "source": [
    "## <a id=\"bld_it_ex\"></a>Bold and Italic text\n",
    "Display ***bold and Italic text*** as both bold and Italic."
   ]
  },
  {
   "cell_type": "markdown",
   "metadata": {},
   "source": [
    "`## The End ##`"
   ]
  }
 ],
 "metadata": {
  "kernelspec": {
   "display_name": "Python 3 (ipykernel)",
   "language": "python",
   "name": "python3"
  },
  "language_info": {
   "codemirror_mode": {
    "name": "ipython",
    "version": 3
   },
   "file_extension": ".py",
   "mimetype": "text/x-python",
   "name": "python",
   "nbconvert_exporter": "python",
   "pygments_lexer": "ipython3",
   "version": "3.9.7"
  }
 },
 "nbformat": 4,
 "nbformat_minor": 2
}
