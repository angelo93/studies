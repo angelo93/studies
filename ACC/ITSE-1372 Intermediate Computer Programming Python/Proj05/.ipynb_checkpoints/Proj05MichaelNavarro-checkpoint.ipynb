{
 "cells": [
  {
   "cell_type": "markdown",
   "metadata": {},
   "source": [
    "# Certification"
   ]
  },
  {
   "cell_type": "markdown",
   "metadata": {},
   "source": [
    "I certify that this project is my own work and is not the work of others. I agree not to share my solution with others. - Michael Navarro."
   ]
  },
  {
   "cell_type": "markdown",
   "metadata": {},
   "source": [
    "# Solving a system of equations"
   ]
  },
  {
   "cell_type": "markdown",
   "metadata": {},
   "source": [
    "The objective of this notebook is to demonstrate how to solve a system of equations such as the one shown below:\n",
    "\n",
    "$\n",
    "\\begin{aligned}\n",
    "3x + 4y  + 3z  &= 10  \\\\\n",
    "9x - 10y - 10z &= -11 \\\\\n",
    "4x + 15y + 18z &= 37\n",
    "\\end{aligned}\n",
    "$\n",
    "\n",
    "The method demonstrated will be the elimination method. With the elimination method, the goal is to continue to eliminate variables by adding or subtracting their opposite until we can simplify one or more equations to solve for a variable"
   ]
  },
  {
   "cell_type": "markdown",
   "metadata": {},
   "source": [
    "## Step 01\n",
    "\n",
    "$\n",
    "\\begin{aligned}\n",
    "3x + 4y  + 3z  &= 10  &X 3\\rightarrow \\: 9x + 12y + 9z  &= 10   \\\\\n",
    "9x - 10y - 10z &= -11 &\\rightarrow    \\: 9x - 10y - 10z &= -11  \\\\\n",
    "4x + 15y + 18z &= 37  &\\rightarrow    \\: 4x + 15y + 18z &= 37\n",
    "\\end{aligned}\n",
    "$\n"
   ]
  },
  {
   "cell_type": "markdown",
   "metadata": {},
   "source": []
  },
  {
   "cell_type": "code",
   "execution_count": null,
   "metadata": {},
   "outputs": [],
   "source": []
  }
 ],
 "metadata": {
  "interpreter": {
   "hash": "c451ed2f77d441a31caa2f86daceb226a6012afcb6002e09022b66dc5235f0e7"
  },
  "kernelspec": {
   "display_name": "Python 3 (ipykernel)",
   "language": "python",
   "name": "python3"
  },
  "language_info": {
   "codemirror_mode": {
    "name": "ipython",
    "version": 3
   },
   "file_extension": ".py",
   "mimetype": "text/x-python",
   "name": "python",
   "nbconvert_exporter": "python",
   "pygments_lexer": "ipython3",
   "version": "3.9.7"
  }
 },
 "nbformat": 4,
 "nbformat_minor": 2
}
